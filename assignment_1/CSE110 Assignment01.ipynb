{
 "cells": [
  {
   "cell_type": "markdown",
   "metadata": {},
   "source": [
    "# CSE110 Assignment 1\n",
    "\n",
    "This assignment is to guide you to solve basic programming problems in Python. Since this is the first assignment, the first problem is solved for you with explanations. Some problems are partially solved to help you. Go through them, try to understand and question each statment of the following questions and codes. If you can understand the problems and the solutions, solving more difficult problems would not seem so difficult. \n",
    "\n",
    "## Write the Python code of the following problems:\n"
   ]
  },
  {
   "cell_type": "markdown",
   "metadata": {},
   "source": [
    "### Task 1\n",
    "\n",
    "Write Python code of a program that reads two numbers from the user, and prints their sum, product, and difference.\n",
    "\n",
    "\n",
    "*hint: Subtract the second number from the first one*\n",
    "\n",
    "For your explanation, the first question's code is done below. Try relating the block of code with the lesson you have learned and understand the significance of each line. You're most welcome to play around with the code. This will strengthen your understanding.\n"
   ]
  },
  {
   "cell_type": "code",
   "execution_count": 1,
   "metadata": {},
   "outputs": [
    {
     "name": "stdout",
     "output_type": "stream",
     "text": [
      "Please Enter Your First Number5\n",
      "Please Enter Your Second Number5\n",
      "<class 'str'>\n",
      "<class 'str'>\n",
      "Sum is 10\n",
      "Product is 25\n",
      "Difference is 0\n"
     ]
    }
   ],
   "source": [
    "### Take input of 2 numbers from the user\n",
    "var_1 = input('Please Enter Your First Number')\n",
    "var_2 = input('Please Enter Your Second Number')\n",
    "\n",
    "#Since input() function converts everything to String,\n",
    "#for performing any kind of mathematical operation you need to convert them to int.\n",
    "#For this conversion, we need to use int() function\n",
    "\n",
    "\n",
    "# First, let's clarify whether the inputs are actually Strings or not. \n",
    "print(type(var_1))\n",
    "print(type(var_2))\n",
    "\n",
    "\n",
    "# Convert Strings to integer using the int() function\n",
    "var_3 = int(var_1)\n",
    "var_4 = int(var_2)\n",
    "\n",
    "# Perform Addition\n",
    "sum = var_3 + var_4\n",
    "\n",
    "# Perform Multiplication \n",
    "product = var_3 * var_4\n",
    "\n",
    "# Perform Substraction \n",
    "difference = var_4 - var_3\n",
    "\n",
    "# Print all the calculated results\n",
    "print(\"Sum is\", sum)\n",
    "print(\"Product is\", product)\n",
    "print(\"Difference is\", difference)\n"
   ]
  },
  {
   "cell_type": "markdown",
   "metadata": {},
   "source": [
    "### Task 2\n",
    "\n",
    "Write Python code of a program that reads the radius of a circle and prints its circumference and area.\n",
    "\n",
    "*hint(1): import math and then use **math.pi** for getting the value of pi.\\\n",
    "For details read from https://docs.python.org/3/library/math.html*\n",
    "\n",
    "*hints(2): You can import math and use math function for making squares math.pow(number, power)   Or you can simply write using power opeartor. For example:  S**2.*\n",
    "\n",
    "**Example:**\\\n",
    "Input: 4\\\n",
    "Output:\\\n",
    "Area is 50.26548245743669\\\n",
    "Circumference is 25.132741228718345\n",
    "\n",
    "Input: 3.5\\\n",
    "Output:\\\n",
    "Area is 38.48451000647496\\\n",
    "Circumference is 21.991148575128552\n",
    "\n",
    "\n",
    "For your explanation, the the first part of the question(area calculation) is done below."
   ]
  },
  {
   "cell_type": "code",
   "execution_count": 4,
   "metadata": {},
   "outputs": [
    {
     "name": "stdout",
     "output_type": "stream",
     "text": [
      "please enter the radius value:3\n",
      "Area result is: 28.274333882308138\n",
      "Area result is: 28.274333882308138\n",
      "Area result is: 28.274333882308138\n"
     ]
    }
   ],
   "source": [
    "import math \n",
    "\n",
    "#taking input from the user, then converting it to float.\n",
    "#Since radius can be a floating point value\n",
    "\n",
    "radius  = float(input(\"please enter the radius value:\")) \n",
    "\n",
    "\n",
    "# squares can be made using this 3 ways, as written in hints. \n",
    "# all 3 ways, generates the same result of area\n",
    "\n",
    "area = math.pi * radius **2 \n",
    "print(\"Area result is:\", area)\n",
    "\n",
    "area = math.pi * math.pow(radius, 2)\n",
    "print(\"Area result is:\", area)\n",
    "\n",
    "area = math.pi * radius * radius\n",
    "print(\"Area result is:\", area)\n",
    "\n",
    "# TODO\n",
    "# calculate circumference"
   ]
  },
  {
   "cell_type": "markdown",
   "metadata": {},
   "source": [
    "### Task 3\n",
    "\n",
    "Write Python code of a program that reads two numbers from the user. Your program should then print “First is greater” if the first number is greater, “Second is greater” if the second number is greater, and “The numbers are equal” otherwise.\n",
    "\n",
    "*hint: You can consider the numbers to be floating point values* "
   ]
  },
  {
   "cell_type": "code",
   "execution_count": 9,
   "metadata": {},
   "outputs": [
    {
     "name": "stdout",
     "output_type": "stream",
     "text": [
      "Please enter your first number7\n",
      "Please enter your second number5\n",
      "<class 'str'>\n",
      "<class 'str'>\n",
      "First is greater\n"
     ]
    }
   ],
   "source": [
    "#Todo\n",
    "var_1= input(\"Please enter your first number\")\n",
    "var_2= input(\"Please enter your second number\")\n",
    "print(type(var_1))\n",
    "print(type(var_2))\n",
    "var_3= int(var_1)\n",
    "var_4= int(var_2)\n",
    "if(var_3>var_4):\n",
    "    print(\"First is greater\")\n",
    "elif(var_4>var_3):\n",
    "        print(\"Second is greater\")\n",
    "else:\n",
    "            print(\"The numbers are equal\")"
   ]
  },
  {
   "cell_type": "markdown",
   "metadata": {},
   "source": [
    "### Task 4\n",
    "\n",
    "Write Python code of a program that reads two numbers, subtracts the smaller number from the larger one, and prints the result.\n",
    "\n",
    "*hint(1): First check which number is greater*\n",
    "\n",
    "*hint(2): You can consider the numbers to be floating point values* \n"
   ]
  },
  {
   "cell_type": "code",
   "execution_count": 10,
   "metadata": {},
   "outputs": [
    {
     "name": "stdout",
     "output_type": "stream",
     "text": [
      "Please enter your first number9\n",
      "Please enter your second number3\n",
      "<class 'str'>\n",
      "<class 'str'>\n",
      "6\n"
     ]
    }
   ],
   "source": [
    "#Todo\n",
    "var_1= input(\"Please enter your first number\")\n",
    "var_2= input(\"Please enter your second number\")\n",
    "print(type(var_1))\n",
    "print(type(var_2))\n",
    "var_3= int(var_1)\n",
    "var_4= int(var_2)\n",
    "if(var_3>var_4):\n",
    "    print(var_3-var_4)\n",
    "else:\n",
    "    print(var_4-var_3)\n"
   ]
  },
  {
   "cell_type": "markdown",
   "metadata": {},
   "source": [
    "### Task 5\n",
    "\n",
    "Write Python code of a program that reads a number, and prints “The number is even” or “The number is odd”, depending on whether the number is even or odd. \n",
    "\n",
    "*hint(1): use the modulus (%) operator*\n",
    "\n",
    "*hint(2): You can consider the number to be an integer* \n"
   ]
  },
  {
   "cell_type": "code",
   "execution_count": 11,
   "metadata": {},
   "outputs": [
    {
     "name": "stdout",
     "output_type": "stream",
     "text": [
      "Please enter your number8\n",
      "<class 'str'>\n",
      "The number is even\n"
     ]
    }
   ],
   "source": [
    "#Todo\n",
    "var= input(\"Please enter your number\")\n",
    "print(type(var))\n",
    "var_1= int(var)\n",
    "if(var_1%2==0):\n",
    "    print(\"The number is even\")\n",
    "else:\n",
    "    print(\"The number is odd\")"
   ]
  },
  {
   "cell_type": "markdown",
   "metadata": {},
   "source": [
    "### Task 6\n",
    "\n",
    "Write Python code of a program that reads an integer, and prints the integer if it is a multiple of **either 2 or 5.**\n",
    "\n",
    "For example, 2, 4, 5, 6, 8, 10, 12, 14, 15, 16, 18, 20, 22 …\n",
    "\n",
    "*hint(1): use the modulus (%) operator for checking the divisibility*\n",
    "\n",
    "*hint(2): You can consider the number to be an integer* \n"
   ]
  },
  {
   "cell_type": "code",
   "execution_count": 14,
   "metadata": {},
   "outputs": [
    {
     "name": "stdout",
     "output_type": "stream",
     "text": [
      "Please enter a number30\n",
      "30\n"
     ]
    }
   ],
   "source": [
    "#Todo\n",
    "a= int(input(\"Please enter a number\"))\n",
    "if(a%2==0 or a%5==0):\n",
    "    print(a)\n"
   ]
  },
  {
   "cell_type": "markdown",
   "metadata": {},
   "source": [
    "### Task 7\n",
    "Write Python code of a program that reads an integer, and prints the integer  it is a multiple of **either 2 or 5 but not both.** \n",
    "\n",
    "For example, 2, 4, 5, 6, 8, 12, 14, 15, 16, 18, 22 …\n",
    "\n",
    "*hint(1): use the modulus (%) operator for checking the divisibility*\n",
    "\n",
    "*hint(2): You can consider the number to be an integer* "
   ]
  },
  {
   "cell_type": "code",
   "execution_count": 21,
   "metadata": {},
   "outputs": [
    {
     "name": "stdout",
     "output_type": "stream",
     "text": [
      "Please enter a number12\n",
      "12\n"
     ]
    }
   ],
   "source": [
    "#Todo\n",
    "a= int(input(\"Please enter a number\"))\n",
    "if(a%10!=0 and (a%2==0 or a%5==0)):    \n",
    "    print(a)"
   ]
  },
  {
   "cell_type": "markdown",
   "metadata": {},
   "source": [
    "### Task 8\n",
    "Write Python code of a program that reads an integer, and prints the integer if it is a multiple of **2 and 5.**\n",
    "\n",
    "For example, 10, 20, 30, 40, 50 …\n",
    "\n",
    "*hint(1): use the modulus (%) operator for checking the divisibility*\n",
    "\n",
    "*hint(2): You can consider the number to be an integer* "
   ]
  },
  {
   "cell_type": "code",
   "execution_count": 18,
   "metadata": {},
   "outputs": [
    {
     "name": "stdout",
     "output_type": "stream",
     "text": [
      "Please enter a number80\n",
      "80\n"
     ]
    }
   ],
   "source": [
    "#Todo\n",
    "a= int(input(\"Please enter a number\"))\n",
    "if(a%2==0 and a%5==0):    \n",
    "    print(a)"
   ]
  },
  {
   "cell_type": "markdown",
   "metadata": {},
   "source": [
    "### Task 9\n",
    "\n",
    "\n",
    "Write Python code of a program that reads an integer, and prints the integer if it is a multiple of **NEITHER 2 NOR 5.** \n",
    "\n",
    "For example, 1, 3, 7, 9, 11, 13, 17, 19, 21, 23, 27, 29, 31, 33, 37, 39 …\n",
    "\n",
    "*hint(1): use the modulus (%) operator for checking the divisibility*\n",
    "\n",
    "*hint(2): You can consider the number to be an integer* \n"
   ]
  },
  {
   "cell_type": "code",
   "execution_count": 19,
   "metadata": {},
   "outputs": [
    {
     "name": "stdout",
     "output_type": "stream",
     "text": [
      "Please enter a number7\n",
      "7\n"
     ]
    }
   ],
   "source": [
    "#Todo\n",
    "a= int(input(\"Please enter a number\"))\n",
    "if(a%2!=0 and a%5!=0):    \n",
    "    print(a)"
   ]
  },
  {
   "cell_type": "markdown",
   "metadata": {},
   "source": [
    "### Task 10\n",
    "\n",
    "Write Python code of a program that reads an integer, and prints the integer if it is **NOT a multiple of 2** OR **NOT a multiple of 5.**\n",
    "\n",
    "For example, 1, 2, 3, 4, 5, 6, 7, 8, 9, 11, 12, 13, 14, 15, 16, 17, 18, 19, 21, 22\n",
    "\n",
    "*hint(1): use the modulus (%) operator for checking the divisibility*\n",
    "\n",
    "*hint(2): You can consider the number to be an integer* "
   ]
  },
  {
   "cell_type": "code",
   "execution_count": 22,
   "metadata": {},
   "outputs": [
    {
     "name": "stdout",
     "output_type": "stream",
     "text": [
      "Please enter a number11\n",
      "11\n"
     ]
    }
   ],
   "source": [
    "#Todo\n",
    "a= int(input(\"Please enter a number\"))\n",
    "if(a%2!=0 or a%5!=0):    \n",
    "    print(a)"
   ]
  },
  {
   "cell_type": "markdown",
   "metadata": {},
   "source": [
    "### Task 11\n",
    "\n",
    "Write Python code of a program that reads a student’s mark for a single subject, and prints out the corresponding grade for that mark. The mark ranges and corresponding grades are shown in the table below. You need to make sure that the marks are valid. For example, a student cannot receive -5 or 110. So the valid marks range is 0 to 100.\n",
    "\n",
    "*hint(1): You can consider the number to be an integer* \n",
    "\n",
    "*hint(2): This problem can be solved in two ways: top-down (starts from A) and bottom-up (starts from F)*\n",
    "\n",
    "\n",
    "| Marks | Grage|\n",
    "| --- | --- | \n",
    "|90 or above| A |\n",
    "|  |  | \n",
    "|80-89| B |\n",
    "|  |  | \n",
    "|70-79| C |\n",
    "|  |  | \n",
    "|60-69| D |\n",
    "|  |  | \n",
    "|50-59| E |\n",
    "|  |  | \n",
    "|Below 50| F |\n",
    "\n",
    "\n",
    "\n",
    "\n",
    "\n"
   ]
  },
  {
   "cell_type": "code",
   "execution_count": 23,
   "metadata": {},
   "outputs": [
    {
     "name": "stdout",
     "output_type": "stream",
     "text": [
      "Please enter the marks7\n",
      "F\n"
     ]
    }
   ],
   "source": [
    "#Todo\n",
    "a=int(input(\"Please enter the marks\"))\n",
    "if(a>=90 and a<=100):\n",
    "    print(\"A\")\n",
    "elif(a>=80 and a<=89):\n",
    "    print(\"B\") \n",
    "elif(a>=70 and a<=79):\n",
    "    print(\"C\")\n",
    "elif(a>=60 and a<=69):\n",
    "    print(\"D\")\n",
    "elif(a>=50 and a<=59):\n",
    "    print(\"E\")  \n",
    "else:\n",
    "    print(\"F\")"
   ]
  },
  {
   "cell_type": "markdown",
   "metadata": {},
   "source": [
    "### Task 12\n",
    "\n",
    "Write Python code of a program to compute and display a person’s weekly salary as determined by the following conditions:\n",
    "If the hours worked are less than or equal to 40, the person receives Tk200.00 per hour, else the person receives Tk8000.00 plus Tk300.00 for each hour worked over 40 hours.\n",
    "The program should request the hours worked as input and should display the salary as output.\n",
    "\n",
    "*hint: You can consider the hour(the user input) to be an integer* \n",
    "\n",
    "**example1:**\\\n",
    "Input: 100\\\n",
    "Output: 26000\n",
    "\n",
    "**example2:**\\\n",
    "Input: 30\\\n",
    "Output: 6000\n"
   ]
  },
  {
   "cell_type": "code",
   "execution_count": 26,
   "metadata": {},
   "outputs": [
    {
     "name": "stdout",
     "output_type": "stream",
     "text": [
      "Please enter hours worked60\n",
      "8300\n"
     ]
    }
   ],
   "source": [
    "#Todo\n",
    "a= int(input(\"Please enter hours worked\"))\n",
    "if(a<=40):\n",
    "    print(\"Tk200.00\")\n",
    "else:\n",
    "    print(8000+300)"
   ]
  },
  {
   "cell_type": "markdown",
   "metadata": {},
   "source": [
    "### Task 13\n",
    "Write Python code of a program that finds the number of hours, minutes, and seconds in a **given number of seconds.** \n",
    "\n",
    "\n",
    "\n",
    "**Example:**\\\n",
    "Input: 10000 seconds\\\n",
    "Output: 2 Hours 46 minutes, 40 seconds\n",
    "\n",
    "*hint(1): The user input will be an integer value* \n",
    "\n",
    "*hint(2): 1 hour = 60 mins = 3600 seconds*\\\n",
    "*1min = 60 seconds* \n",
    "\n",
    "\n",
    "\n",
    "\n"
   ]
  },
  {
   "cell_type": "code",
   "execution_count": 35,
   "metadata": {},
   "outputs": [
    {
     "name": "stdout",
     "output_type": "stream",
     "text": [
      "Please enter amount of seconds90\n",
      "0 hours 1 minutes 30 seconds\n"
     ]
    }
   ],
   "source": [
    "#Todo\n",
    "sec=int(input(\"Please enter amount of seconds\"))\n",
    "hour= sec/3600\n",
    "sec= sec%3600\n",
    "min= sec/60\n",
    "sec=sec%60\n",
    "print(int(hour), \"hours\", int(min), \"minutes\",sec, \"seconds\")"
   ]
  },
  {
   "cell_type": "markdown",
   "metadata": {},
   "source": [
    "### Task 14\n",
    "Suppose the following expressions are used to calculate the values of L for different values of S:\n",
    "\n",
    "$L =  3000-125S^2$ \n",
    "if     $S<100$\n",
    "\n",
    "$ L =  \\frac{12000}{4+S^2/14900}$\n",
    "if     $S\\geq100$\n",
    "\n",
    "Write a Python code of a program that reads a value of S and then calculates the value of L.\n",
    "\n",
    "For example:\\\n",
    "If S=3, L= 1875.\\\n",
    "If S=120, L= 2416.2162162162163\n",
    "\n",
    "\n",
    "*hint(1): You can import math and use math function for making squares math.pow(number, power)   Or you can simply write S**2.*\n",
    "\n",
    "*hint(2): The value of S(user input) will be an integer* "
   ]
  },
  {
   "cell_type": "code",
   "execution_count": 29,
   "metadata": {},
   "outputs": [
    {
     "name": "stdout",
     "output_type": "stream",
     "text": [
      "Please enter value of S9\n",
      "-7125\n"
     ]
    }
   ],
   "source": [
    "#Todo\n",
    "S= int(input(\"Please enter value of S\"))\n",
    "L= 3000-125*(S**2)\n",
    "L1= 12000/(4+(S**2)/14900)\n",
    "if(S<100):\n",
    "    print(L)\n",
    "if(S>=100):\n",
    "    print(L1)\n",
    "    "
   ]
  },
  {
   "cell_type": "markdown",
   "metadata": {},
   "source": [
    "### Task 15\n",
    "\n",
    "Take an hour from the user as input and tell it is time for which meal.\n",
    "\n",
    "•\tThe user will input the number in a 24-hour format. So, 14 means 2 pm, 3 means 3 am, 18 means 6 pm, etc.\\\n",
    "•\tValid inputs are 0 to 23. Inputs less than 0 or more than 23 are invalid in 24-hour clock.\\\n",
    "•\tAssume, Input will be whole numbers. For example, 3.5 will NOT be given as input.\n",
    "\n",
    "Inputs: Message to be printed\\\n",
    "4 to 6: Breakfast\\\n",
    "12 to 13: Lunch\\\n",
    "16 to 17: Snacks\\\n",
    "19 to 20: Dinner\\\n",
    "For all other valid inputs, say \"Patience is a virtue\"\\\n",
    "For all other invalid inputs, say \"Wrong time\"\n",
    "\n",
    "For example,\\\n",
    "If the user enters 4, your program should print the message \"Breakfast\".\\\n",
    "If the user enters 5, your program should print the message \"Breakfast\".\\\n",
    "If the user enters 6, your program should print the message \"Breakfast\".\\\n",
    "If the user enters 0, your program should print the message \"Patience is a virtue\".\\\n",
    "If the user enters 1, your program should print the message \"Patience is a virtue\".\\\n",
    "If the user enters 18, your program should print the message \"Patience is a virtue\".\\\n",
    "If the user enters 23, your program should print the message \"Patience is a virtue\".\\\n",
    "If the user enters 24, your program should print the message \"Wrong Time\".\\\n",
    "If the user enters -1, your program should print the message \"Wrong Time\".\\\n",
    "If the user enters 27, your program should print the message \"Wrong time\".\n",
    "\n",
    "Hints:\\\n",
    "You can use nested conditionals (if-else) or chained conditions (if-elif-else) to solve this problem.\n",
    "\n"
   ]
  },
  {
   "cell_type": "code",
   "execution_count": 36,
   "metadata": {},
   "outputs": [
    {
     "name": "stdout",
     "output_type": "stream",
     "text": [
      "Please enter hour7\n",
      "Snacks time\n"
     ]
    }
   ],
   "source": [
    "#Todo\n",
    "n= int(input(\"Please enter hour\"))\n",
    "if(n>23 or n<0):\n",
    "    print(\"Wrong time\")\n",
    "elif(n>=4 and n<=6):\n",
    "    print(\"Breakfast time\")\n",
    "elif(n>=12 and n<=13):\n",
    "    print(\"Lunch time\")\n",
    "elif(n>=1 and n<=17):\n",
    "    print(\"Snacks time\")\n",
    "elif(n>=19 and n<=20):\n",
    "    print(\"Dinner time\")\n",
    "else:\n",
    "    print(\"Patience is virtue\")   "
   ]
  }
 ],
 "metadata": {
  "kernelspec": {
   "display_name": "Python 3",
   "language": "python",
   "name": "python3"
  },
  "language_info": {
   "codemirror_mode": {
    "name": "ipython",
    "version": 3
   },
   "file_extension": ".py",
   "mimetype": "text/x-python",
   "name": "python",
   "nbconvert_exporter": "python",
   "pygments_lexer": "ipython3",
   "version": "3.7.6"
  }
 },
 "nbformat": 4,
 "nbformat_minor": 4
}
