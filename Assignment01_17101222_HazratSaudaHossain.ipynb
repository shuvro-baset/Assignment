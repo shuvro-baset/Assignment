{
 "cells": [
  {
   "cell_type": "markdown",
   "metadata": {
    "id": "1NMSn7yXZVD2"
   },
   "source": [
    "string 1"
   ]
  },
  {
   "cell_type": "code",
   "execution_count": 39,
   "metadata": {
    "colab": {
     "base_uri": "https://localhost:8080/",
     "height": 51
    },
    "id": "LDn62izZZYMW",
    "outputId": "db6ac842-a57b-4e1b-bc0e-c38423d727f7"
   },
   "outputs": [
    {
     "name": "stdout",
     "output_type": "stream",
     "text": [
      "please typeGol\n",
      "gol\n"
     ]
    }
   ],
   "source": [
    "\n",
    "class main: \n",
    "    i=input(\"please type\")\n",
    "    lc=0\n",
    "    uc=0\n",
    "    n=0\n",
    "    for x in i:\n",
    "        if(i[n].islower()):\n",
    "           lc=lc+1\n",
    "        elif(i[n].isupper()):\n",
    "           uc=uc+1\n",
    "        n=n+1   \n",
    "    if(lc>=uc):\n",
    "        print(i.lower())\n",
    "    elif(uc>lc):\n",
    "        print(i.upper())\n",
    "    \n",
    "        \n",
    "           \n",
    "         \n",
    "        "
   ]
  },
  {
   "cell_type": "markdown",
   "metadata": {
    "id": "aJhPk-MIaeae"
   },
   "source": [
    "**string 2**"
   ]
  },
  {
   "cell_type": "code",
   "execution_count": 41,
   "metadata": {
    "colab": {
     "base_uri": "https://localhost:8080/",
     "height": 51
    },
    "id": "0AY0sxFRao2m",
    "outputId": "3e376714-2a86-4855-a05c-2bf47ba900f2"
   },
   "outputs": [
    {
     "name": "stdout",
     "output_type": "stream",
     "text": [
      "please type342\n",
      "NUMBER\n"
     ]
    }
   ],
   "source": [
    "\n",
    "\n",
    "class main: \n",
    "    i=input(\"please type\")\n",
    "    if(i.isdigit()):\n",
    "        print(\"NUMBER\")\n",
    "    elif(i.isalpha()):\n",
    "        print(\"WORD\")\n",
    "    else:\n",
    "        print(\"Mixed\")"
   ]
  },
  {
   "cell_type": "markdown",
   "metadata": {
    "id": "4bfotpWia6Qs"
   },
   "source": [
    "**String 3**"
   ]
  },
  {
   "cell_type": "code",
   "execution_count": 42,
   "metadata": {
    "colab": {
     "base_uri": "https://localhost:8080/",
     "height": 51
    },
    "id": "x71rSN1qbAD8",
    "outputId": "36826c19-dbfd-4026-b542-2d53e1d2eca6"
   },
   "outputs": [
    {
     "name": "stdout",
     "output_type": "stream",
     "text": [
      "please typeBangLadesh\n",
      "ang\n"
     ]
    }
   ],
   "source": [
    "\n",
    "\n",
    "class main: \n",
    "    i=input(\"please type\")\n",
    "    p=\"\"\n",
    "    c=0\n",
    "\n",
    "    for x in range(len(i)):\n",
    "        if(c==0):\n",
    "          if(i[x].isupper()):\n",
    "              temp=i[x+1:len(i)]\n",
    "              for n in temp:\n",
    "                if(n.islower()):\n",
    "                     p=p+n \n",
    "                elif(n.isupper()):\n",
    "                     c=c+1\n",
    "                     break\n",
    "                     \n",
    "        else:\n",
    "            break\n",
    "    if(p==\"\"):\n",
    "        print(\"Blank\")\n",
    "               \n",
    "    else:\n",
    "        print(p)\n",
    "               \n",
    "                 \n",
    "    \n",
    "    \n",
    "        "
   ]
  },
  {
   "cell_type": "markdown",
   "metadata": {
    "id": "EqcJD0Ycbtg9"
   },
   "source": [
    "**string 4**"
   ]
  },
  {
   "cell_type": "code",
   "execution_count": 44,
   "metadata": {
    "colab": {
     "base_uri": "https://localhost:8080/",
     "height": 51
    },
    "id": "TxDcs3Ytbxk9",
    "outputId": "da1e9f10-190a-4135-90dd-3ec04ac68bf3"
   },
   "outputs": [
    {
     "name": "stdout",
     "output_type": "stream",
     "text": [
      "please typea good too\n",
      "a good too\n"
     ]
    }
   ],
   "source": [
    "\n",
    "\n",
    "class main: \n",
    "    i=input(\"please type\")\n",
    "    p=i.find(\"too\")\n",
    "    q=i.find(\"good\")\n",
    "    r=i.find(\"too good\")\n",
    "    if(r!=-1):\n",
    "        print(i.replace(\"too good\", \"excellent\"))\n",
    "    elif(p!=-1 and q!=-1):\n",
    "        print(i)\n",
    "        \n",
    "               \n",
    "                 \n",
    "    \n",
    "    \n",
    "        "
   ]
  },
  {
   "cell_type": "markdown",
   "metadata": {
    "id": "obZ_9TkgcMlV"
   },
   "source": [
    "**string 5**"
   ]
  },
  {
   "cell_type": "code",
   "execution_count": 45,
   "metadata": {
    "colab": {
     "base_uri": "https://localhost:8080/",
     "height": 85
    },
    "id": "NmZUDh2icP6d",
    "outputId": "e12b9ddf-014a-455e-a8b4-fbeb3b9f12e8"
   },
   "outputs": [
    {
     "name": "stdout",
     "output_type": "stream",
     "text": [
      "please type\n",
      "harry\n",
      "please typehermonie\n",
      "hrrhr\n"
     ]
    }
   ],
   "source": [
    "\n",
    "class main: \n",
    "    c=0\n",
    "    d=0\n",
    "    n=\"\"\n",
    "    m=\"\"\n",
    "    i=input(\"please type\\n\")\n",
    "    j=input(\"please type\")\n",
    "    \n",
    "    for x in range(len(i)):\n",
    "        for z in m:\n",
    "            if(i[x]==z):\n",
    "               m=m+i[x]\n",
    "               break\n",
    "        else:\n",
    "              for y in range(len(j)):\n",
    "                if(i[x]==j[y]):\n",
    "                      n=n+j[y]\n",
    "                      c=1  \n",
    "                     \n",
    "                     \n",
    "        \n",
    "        if(c==1):\n",
    "             m=m+i[x]\n",
    "             c=0\n",
    "    p=m+n      \n",
    "    if(p!=\"\"):       \n",
    "        print(p)\n",
    "    else: \n",
    "        print(\"nothing is common\")\n",
    "            "
   ]
  },
  {
   "cell_type": "markdown",
   "metadata": {
    "id": "TzTDfTdSegF0"
   },
   "source": [
    "**String 6**"
   ]
  },
  {
   "cell_type": "code",
   "execution_count": 47,
   "metadata": {
    "colab": {
     "base_uri": "https://localhost:8080/",
     "height": 51
    },
    "id": "M9_VdTSUekb0",
    "outputId": "44dc71f7-76dc-47f2-9686-5abcd872cedd"
   },
   "outputs": [
    {
     "name": "stdout",
     "output_type": "stream",
     "text": [
      "please type passwordOhMyBR@CU20\n",
      "OK\n"
     ]
    }
   ],
   "source": [
    "\n",
    "class main:\n",
    "    i=input(\"please type password\")\n",
    "    l=0\n",
    "    u=0\n",
    "    d=0\n",
    "    s=0\n",
    "    for x in i:\n",
    "        if(x.islower()):\n",
    "            l=1\n",
    "        elif(x.isupper()):\n",
    "            u=1\n",
    "        elif(x.isdigit()):\n",
    "            d=1\n",
    "        elif(ord(x)==64 or ord(x)==95 or ord(x)==36 or ord(x)==35):\n",
    "            s=1\n",
    "    z=l+u+d+s\n",
    "    if(l==1 and u==1 and d==1 and s==1):\n",
    "        print(\"OK\")\n",
    "    else: \n",
    "      if(u==0):\n",
    "          print(\"Uppercase missing\")\n",
    "      if(l==0):\n",
    "          print(\"lowercase missing\")\n",
    "      if(d==0):\n",
    "          print(\"digit missing\")\n",
    "      if(s==0):\n",
    "          print(\"special character missing\")\n",
    "        \n",
    "            "
   ]
  },
  {
   "cell_type": "markdown",
   "metadata": {
    "id": "EomYGmK4e7ub"
   },
   "source": [
    "**list 1**"
   ]
  },
  {
   "cell_type": "code",
   "execution_count": 55,
   "metadata": {
    "colab": {
     "base_uri": "https://localhost:8080/",
     "height": 187
    },
    "id": "2saEeDw_e-8E",
    "outputId": "e5806694-2e69-4b8d-e691-8dea943aa8f4"
   },
   "outputs": [
    {
     "name": "stdout",
     "output_type": "stream",
     "text": [
      "enter num 10\n",
      "enter num 10\n",
      "enter num 10\n",
      "enter num 0\n",
      "enter num 0\n",
      "enter num 20\n",
      "enter num stop\n",
      "10-3 times\n",
      "0-2 times\n",
      "20-1 times\n"
     ]
    }
   ],
   "source": [
    "lst=[]\n",
    "lst2=[]\n",
    "while(True):\n",
    "   p=input(\"enter num \")\n",
    "   if(p==\"stop\"):\n",
    "       break\n",
    "   lst.append(p)\n",
    "   \n",
    "      \n",
    "for i in range(len(lst)):\n",
    "    \n",
    "    q= lst.count(lst[i])\n",
    "    if lst[i] not in lst2:\n",
    "       print(lst[i]+\"-\"+str(q)+\" times\")\n",
    "       lst2.append(lst[i])"
   ]
  },
  {
   "cell_type": "markdown",
   "metadata": {
    "id": "j0cc1hBKguUT"
   },
   "source": [
    "**list 2**"
   ]
  },
  {
   "cell_type": "code",
   "execution_count": 56,
   "metadata": {
    "colab": {
     "base_uri": "https://localhost:8080/",
     "height": 153
    },
    "id": "JEga57ZAgyq8",
    "outputId": "e9d5411b-f9f2-4bd5-e882-7b25c61926b7"
   },
   "outputs": [
    {
     "name": "stdout",
     "output_type": "stream",
     "text": [
      "give the number of lists 3\n",
      "Enter a list elements separated by space 1 1 2\n",
      "Enter a list elements separated by space 1 2 3\n",
      "Enter a list elements separated by space 1 1 4\n",
      "6\n",
      "[1, 2, 3]\n",
      "6\n",
      "[1, 1, 4]\n"
     ]
    }
   ],
   "source": [
    "\n",
    "p=int(input(\"give the number of lists \"))\n",
    "SUM =[0]\n",
    "lst3=[]\n",
    "for i in range(p):\n",
    "   lst = input(\"Enter a list elements separated by space \")\n",
    "   lst2= lst.split()\n",
    "   lst2 = list(map(int, lst2)) \n",
    "   lst3.append(lst2)\n",
    "   SUM.append(sum(lst2))\n",
    "for j in range(len(lst3)):\n",
    "   q= sum(lst3[j])\n",
    "   if(q==max(SUM)):\n",
    "       print(max(SUM))\n",
    "       print(lst3[j])\n",
    "  \n"
   ]
  },
  {
   "cell_type": "markdown",
   "metadata": {
    "id": "pw04iNaKg7_8"
   },
   "source": [
    "**list 3**"
   ]
  },
  {
   "cell_type": "code",
   "execution_count": 57,
   "metadata": {
    "colab": {
     "base_uri": "https://localhost:8080/",
     "height": 68
    },
    "id": "SGkemUtng_zc",
    "outputId": "03440e4f-2118-49cd-f4ad-56ac72f1e173"
   },
   "outputs": [
    {
     "name": "stdout",
     "output_type": "stream",
     "text": [
      "enter fisrt list separated by space 1 2 3\n",
      "enter fisrt list separated by space 2 4 5\n",
      "[2, 4, 5, 4, 8, 10, 6, 12, 15]\n"
     ]
    }
   ],
   "source": [
    "\n",
    "\n",
    "input1 = input(\"enter fisrt list separated by space \")\n",
    "input2 = input(\"enter fisrt list separated by space \")\n",
    "lst1=input1.split()\n",
    "lst2=input2.split()\n",
    "mul=[]\n",
    "for i in range(len(lst1)):\n",
    "    lst1[i]=int(lst1[i])\n",
    "for i in range(len(lst2)):\n",
    "    lst2[i]=int(lst2[i])\n",
    "for i in lst1:\n",
    "    for j in lst2:\n",
    "        mul.append(i*j)\n",
    "print(mul)\n"
   ]
  },
  {
   "cell_type": "markdown",
   "metadata": {
    "id": "pvIQL7Zlhdk8"
   },
   "source": [
    "**list 4**"
   ]
  },
  {
   "cell_type": "code",
   "execution_count": 1,
   "metadata": {
    "colab": {
     "base_uri": "https://localhost:8080/",
     "height": 668
    },
    "id": "2fx5EWEahgl7",
    "outputId": "a49e1c19-40f4-44fa-891b-893eb4018d4e"
   },
   "outputs": [
    {
     "name": "stdout",
     "output_type": "stream",
     "text": [
      "enter list separated by space 1 3 4 0\n",
      "[1, 3, 4, 0]\n",
      "Not UB Jumper\n",
      "enter list separated by space 1 2 4 7\n",
      "[1, 2, 4, 7]\n",
      "UB Jumper\n"
     ]
    },
    {
     "ename": "KeyboardInterrupt",
     "evalue": "ignored",
     "output_type": "error",
     "traceback": [
      "\u001b[0;31m---------------------------------------------------------------------------\u001b[0m",
      "\u001b[0;31mKeyboardInterrupt\u001b[0m                         Traceback (most recent call last)",
      "\u001b[0;32m/usr/local/lib/python3.6/dist-packages/ipykernel/kernelbase.py\u001b[0m in \u001b[0;36m_input_request\u001b[0;34m(self, prompt, ident, parent, password)\u001b[0m\n\u001b[1;32m    728\u001b[0m             \u001b[0;32mtry\u001b[0m\u001b[0;34m:\u001b[0m\u001b[0;34m\u001b[0m\u001b[0;34m\u001b[0m\u001b[0m\n\u001b[0;32m--> 729\u001b[0;31m                 \u001b[0mident\u001b[0m\u001b[0;34m,\u001b[0m \u001b[0mreply\u001b[0m \u001b[0;34m=\u001b[0m \u001b[0mself\u001b[0m\u001b[0;34m.\u001b[0m\u001b[0msession\u001b[0m\u001b[0;34m.\u001b[0m\u001b[0mrecv\u001b[0m\u001b[0;34m(\u001b[0m\u001b[0mself\u001b[0m\u001b[0;34m.\u001b[0m\u001b[0mstdin_socket\u001b[0m\u001b[0;34m,\u001b[0m \u001b[0;36m0\u001b[0m\u001b[0;34m)\u001b[0m\u001b[0;34m\u001b[0m\u001b[0;34m\u001b[0m\u001b[0m\n\u001b[0m\u001b[1;32m    730\u001b[0m             \u001b[0;32mexcept\u001b[0m \u001b[0mException\u001b[0m\u001b[0;34m:\u001b[0m\u001b[0;34m\u001b[0m\u001b[0;34m\u001b[0m\u001b[0m\n",
      "\u001b[0;32m/usr/local/lib/python3.6/dist-packages/jupyter_client/session.py\u001b[0m in \u001b[0;36mrecv\u001b[0;34m(self, socket, mode, content, copy)\u001b[0m\n\u001b[1;32m    802\u001b[0m         \u001b[0;32mtry\u001b[0m\u001b[0;34m:\u001b[0m\u001b[0;34m\u001b[0m\u001b[0;34m\u001b[0m\u001b[0m\n\u001b[0;32m--> 803\u001b[0;31m             \u001b[0mmsg_list\u001b[0m \u001b[0;34m=\u001b[0m \u001b[0msocket\u001b[0m\u001b[0;34m.\u001b[0m\u001b[0mrecv_multipart\u001b[0m\u001b[0;34m(\u001b[0m\u001b[0mmode\u001b[0m\u001b[0;34m,\u001b[0m \u001b[0mcopy\u001b[0m\u001b[0;34m=\u001b[0m\u001b[0mcopy\u001b[0m\u001b[0;34m)\u001b[0m\u001b[0;34m\u001b[0m\u001b[0;34m\u001b[0m\u001b[0m\n\u001b[0m\u001b[1;32m    804\u001b[0m         \u001b[0;32mexcept\u001b[0m \u001b[0mzmq\u001b[0m\u001b[0;34m.\u001b[0m\u001b[0mZMQError\u001b[0m \u001b[0;32mas\u001b[0m \u001b[0me\u001b[0m\u001b[0;34m:\u001b[0m\u001b[0;34m\u001b[0m\u001b[0;34m\u001b[0m\u001b[0m\n",
      "\u001b[0;32m/usr/local/lib/python3.6/dist-packages/zmq/sugar/socket.py\u001b[0m in \u001b[0;36mrecv_multipart\u001b[0;34m(self, flags, copy, track)\u001b[0m\n\u001b[1;32m    490\u001b[0m         \"\"\"\n\u001b[0;32m--> 491\u001b[0;31m         \u001b[0mparts\u001b[0m \u001b[0;34m=\u001b[0m \u001b[0;34m[\u001b[0m\u001b[0mself\u001b[0m\u001b[0;34m.\u001b[0m\u001b[0mrecv\u001b[0m\u001b[0;34m(\u001b[0m\u001b[0mflags\u001b[0m\u001b[0;34m,\u001b[0m \u001b[0mcopy\u001b[0m\u001b[0;34m=\u001b[0m\u001b[0mcopy\u001b[0m\u001b[0;34m,\u001b[0m \u001b[0mtrack\u001b[0m\u001b[0;34m=\u001b[0m\u001b[0mtrack\u001b[0m\u001b[0;34m)\u001b[0m\u001b[0;34m]\u001b[0m\u001b[0;34m\u001b[0m\u001b[0;34m\u001b[0m\u001b[0m\n\u001b[0m\u001b[1;32m    492\u001b[0m         \u001b[0;31m# have first part already, only loop while more to receive\u001b[0m\u001b[0;34m\u001b[0m\u001b[0;34m\u001b[0m\u001b[0;34m\u001b[0m\u001b[0m\n",
      "\u001b[0;32mzmq/backend/cython/socket.pyx\u001b[0m in \u001b[0;36mzmq.backend.cython.socket.Socket.recv\u001b[0;34m()\u001b[0m\n",
      "\u001b[0;32mzmq/backend/cython/socket.pyx\u001b[0m in \u001b[0;36mzmq.backend.cython.socket.Socket.recv\u001b[0;34m()\u001b[0m\n",
      "\u001b[0;32mzmq/backend/cython/socket.pyx\u001b[0m in \u001b[0;36mzmq.backend.cython.socket._recv_copy\u001b[0;34m()\u001b[0m\n",
      "\u001b[0;32m/usr/local/lib/python3.6/dist-packages/zmq/backend/cython/checkrc.pxd\u001b[0m in \u001b[0;36mzmq.backend.cython.checkrc._check_rc\u001b[0;34m()\u001b[0m\n",
      "\u001b[0;31mKeyboardInterrupt\u001b[0m: ",
      "\nDuring handling of the above exception, another exception occurred:\n",
      "\u001b[0;31mKeyboardInterrupt\u001b[0m                         Traceback (most recent call last)",
      "\u001b[0;32m<ipython-input-1-b0008e489654>\u001b[0m in \u001b[0;36m<module>\u001b[0;34m()\u001b[0m\n\u001b[1;32m      8\u001b[0m    \u001b[0mlst2\u001b[0m\u001b[0;34m=\u001b[0m\u001b[0;34m[\u001b[0m\u001b[0;34m]\u001b[0m\u001b[0;34m\u001b[0m\u001b[0;34m\u001b[0m\u001b[0m\n\u001b[1;32m      9\u001b[0m    \u001b[0mlst1\u001b[0m\u001b[0;34m=\u001b[0m\u001b[0;34m[\u001b[0m\u001b[0;34m]\u001b[0m\u001b[0;34m\u001b[0m\u001b[0;34m\u001b[0m\u001b[0m\n\u001b[0;32m---> 10\u001b[0;31m    \u001b[0mp\u001b[0m \u001b[0;34m=\u001b[0m \u001b[0minput\u001b[0m\u001b[0;34m(\u001b[0m\u001b[0;34m\"enter list separated by space \"\u001b[0m\u001b[0;34m)\u001b[0m\u001b[0;34m\u001b[0m\u001b[0;34m\u001b[0m\u001b[0m\n\u001b[0m\u001b[1;32m     11\u001b[0m    \u001b[0;32mif\u001b[0m\u001b[0;34m(\u001b[0m\u001b[0mp\u001b[0m\u001b[0;34m==\u001b[0m\u001b[0;34m\"stop\"\u001b[0m\u001b[0;34m)\u001b[0m\u001b[0;34m:\u001b[0m\u001b[0;34m\u001b[0m\u001b[0;34m\u001b[0m\u001b[0m\n\u001b[1;32m     12\u001b[0m        \u001b[0;32mbreak\u001b[0m\u001b[0;34m\u001b[0m\u001b[0;34m\u001b[0m\u001b[0m\n",
      "\u001b[0;32m/usr/local/lib/python3.6/dist-packages/ipykernel/kernelbase.py\u001b[0m in \u001b[0;36mraw_input\u001b[0;34m(self, prompt)\u001b[0m\n\u001b[1;32m    702\u001b[0m             \u001b[0mself\u001b[0m\u001b[0;34m.\u001b[0m\u001b[0m_parent_ident\u001b[0m\u001b[0;34m,\u001b[0m\u001b[0;34m\u001b[0m\u001b[0;34m\u001b[0m\u001b[0m\n\u001b[1;32m    703\u001b[0m             \u001b[0mself\u001b[0m\u001b[0;34m.\u001b[0m\u001b[0m_parent_header\u001b[0m\u001b[0;34m,\u001b[0m\u001b[0;34m\u001b[0m\u001b[0;34m\u001b[0m\u001b[0m\n\u001b[0;32m--> 704\u001b[0;31m             \u001b[0mpassword\u001b[0m\u001b[0;34m=\u001b[0m\u001b[0;32mFalse\u001b[0m\u001b[0;34m,\u001b[0m\u001b[0;34m\u001b[0m\u001b[0;34m\u001b[0m\u001b[0m\n\u001b[0m\u001b[1;32m    705\u001b[0m         )\n\u001b[1;32m    706\u001b[0m \u001b[0;34m\u001b[0m\u001b[0m\n",
      "\u001b[0;32m/usr/local/lib/python3.6/dist-packages/ipykernel/kernelbase.py\u001b[0m in \u001b[0;36m_input_request\u001b[0;34m(self, prompt, ident, parent, password)\u001b[0m\n\u001b[1;32m    732\u001b[0m             \u001b[0;32mexcept\u001b[0m \u001b[0mKeyboardInterrupt\u001b[0m\u001b[0;34m:\u001b[0m\u001b[0;34m\u001b[0m\u001b[0;34m\u001b[0m\u001b[0m\n\u001b[1;32m    733\u001b[0m                 \u001b[0;31m# re-raise KeyboardInterrupt, to truncate traceback\u001b[0m\u001b[0;34m\u001b[0m\u001b[0;34m\u001b[0m\u001b[0;34m\u001b[0m\u001b[0m\n\u001b[0;32m--> 734\u001b[0;31m                 \u001b[0;32mraise\u001b[0m \u001b[0mKeyboardInterrupt\u001b[0m\u001b[0;34m\u001b[0m\u001b[0;34m\u001b[0m\u001b[0m\n\u001b[0m\u001b[1;32m    735\u001b[0m             \u001b[0;32melse\u001b[0m\u001b[0;34m:\u001b[0m\u001b[0;34m\u001b[0m\u001b[0;34m\u001b[0m\u001b[0m\n\u001b[1;32m    736\u001b[0m                 \u001b[0;32mbreak\u001b[0m\u001b[0;34m\u001b[0m\u001b[0;34m\u001b[0m\u001b[0m\n",
      "\u001b[0;31mKeyboardInterrupt\u001b[0m: "
     ]
    }
   ],
   "source": [
    "\n",
    "\n",
    "p=\"\"\n",
    "lst1=[]\n",
    "lst2=[]\n",
    "chk= True\n",
    "while(p!=\"stop\"):\n",
    "   lst2=[]\n",
    "   lst1=[]\n",
    "   p = input(\"enter list separated by space \")\n",
    "   if(p==\"stop\"):\n",
    "       break\n",
    "   lst2= p.split()\n",
    "   lst2 = list(map(int, lst2)) \n",
    "   print(lst2)\n",
    "   for i in range(len(lst2)-1):\n",
    "       lst1.append(abs(lst2[i+1]-lst2[i]))\n",
    "       \n",
    "  \n",
    "   for i in range(1,len(lst2)):\n",
    "       \n",
    "       if i not in lst1:\n",
    "           \n",
    "           chk=False\n",
    "   if(chk==True):\n",
    "       print(\"UB Jumper\")\n",
    "   if(chk==False):\n",
    "       print(\"Not UB Jumper\")\n",
    "   chk= True "
   ]
  },
  {
   "cell_type": "markdown",
   "metadata": {
    "id": "Z9ZeqmFih-5n"
   },
   "source": [
    "**List 5**"
   ]
  },
  {
   "cell_type": "code",
   "execution_count": 2,
   "metadata": {
    "colab": {
     "base_uri": "https://localhost:8080/",
     "height": 51
    },
    "id": "1rglgG8GiDO8",
    "outputId": "f9df3c3b-78c4-4c9b-dfa5-b14fcc574673"
   },
   "outputs": [
    {
     "name": "stdout",
     "output_type": "stream",
     "text": [
      "enter GollUUu12345\n",
      "llouGUU13524\n"
     ]
    }
   ],
   "source": [
    "\n",
    "\n",
    "p = input(\"enter \")\n",
    "lst1=[]\n",
    "lst2=[]\n",
    "lst3=[]\n",
    "lst4=[]\n",
    "lst5=[]\n",
    "for x in p:\n",
    "    if(x.islower()):\n",
    "        lst1.append(x)\n",
    "        lst1.sort()\n",
    "    if(x.isupper()):\n",
    "        lst2.append(x)\n",
    "        lst2.sort()\n",
    "    if(x.isdigit()):\n",
    "        if(int(x)%2==0):\n",
    "           lst3.append(x)\n",
    "           lst3.sort()\n",
    "        else: \n",
    "           lst4.append(x)\n",
    "           lst4.sort()\n",
    "   \n",
    "lst=lst1+lst2+lst4+lst3\n",
    "n=\"\".join(map(str, lst))\n",
    "print(n)\n",
    "        \n"
   ]
  },
  {
   "cell_type": "markdown",
   "metadata": {
    "id": "iQzTleiyke6F"
   },
   "source": [
    "**list 6**"
   ]
  },
  {
   "cell_type": "code",
   "execution_count": 5,
   "metadata": {
    "colab": {
     "base_uri": "https://localhost:8080/",
     "height": 119
    },
    "id": "Imugmb0RkjAr",
    "outputId": "fae84748-70f4-4af1-a97c-07e2e3fbafff"
   },
   "outputs": [
    {
     "name": "stdout",
     "output_type": "stream",
     "text": [
      "enter total competetor4\n",
      "k\n",
      "2\n",
      "Enter a list elements separated by space 1 2 3 4\n",
      "[1, 2, 3, 4]\n",
      "1\n"
     ]
    }
   ],
   "source": [
    "\n",
    "\n",
    "n=input(\"enter total competetor\")\n",
    "n=int(n)\n",
    "k=input(\"k\\n\")\n",
    "k=int(k)\n",
    "a=0\n",
    "p = input(\"Enter a list elements separated by space \")\n",
    "lst= p.split()\n",
    "lst = list(map(int, lst)) \n",
    "print(lst)\n",
    "for i in range(len(lst)):\n",
    "    if((5-lst[i])>=k):\n",
    "        a=a+1\n",
    "        \n",
    "        \n",
    "print(int(a/3))"
   ]
  },
  {
   "cell_type": "markdown",
   "metadata": {
    "id": "0PO1dOUjlUoU"
   },
   "source": [
    "**dictionary and tuple 1**"
   ]
  },
  {
   "cell_type": "code",
   "execution_count": 8,
   "metadata": {
    "colab": {
     "base_uri": "https://localhost:8080/",
     "height": 204
    },
    "id": "ySQ5qwNWlcj7",
    "outputId": "97892c98-eef4-46b4-b63d-fe5a90f915e0"
   },
   "outputs": [
    {
     "name": "stdout",
     "output_type": "stream",
     "text": [
      "enter the number of key2\n",
      "keya\n",
      "value2\n",
      "keyd\n",
      "value2\n",
      "enter the number of key2\n",
      "keya\n",
      "value2\n",
      "keys\n",
      "value3\n",
      "{'a': 4, 'd': 2, 's': 3}\n"
     ]
    }
   ],
   "source": [
    "num1 = int(input(\"enter the number of key\"))\n",
    "d1 = {}\n",
    "d2 = {}\n",
    "\n",
    "for i in range(num1):\n",
    "    k = input(\"key\") \n",
    "    val = int(input(\"value\"))\n",
    "    d1[k] = val\n",
    "\n",
    "num2 = int(input(\"enter the number of key\"))\n",
    "for i in range(num2):\n",
    "    k = input(\"key\") \n",
    "    val = int(input(\"value\")) \n",
    "    d2[k] = val\n",
    "\n",
    "for i in d2:\n",
    "    if i in d1:\n",
    "         d1[i]=d1[i]+d2[i]\n",
    "    else:\n",
    "         d1.update({i: d2[i]})\n",
    "print(d1)"
   ]
  },
  {
   "cell_type": "markdown",
   "metadata": {
    "id": "kev94HBol2XT"
   },
   "source": [
    "**dictionary and tuple 2**"
   ]
  },
  {
   "cell_type": "code",
   "execution_count": 9,
   "metadata": {
    "colab": {
     "base_uri": "https://localhost:8080/",
     "height": 119
    },
    "id": "29PDwNmCl7lD",
    "outputId": "c2e1e05d-30a5-465a-b02d-9a9a18f2c648"
   },
   "outputs": [
    {
     "name": "stdout",
     "output_type": "stream",
     "text": [
      "enter 10\n",
      "enter 10\n",
      "enter 20\n",
      "enter stop\n",
      "10 - 2 times\n",
      "20 - 1 times\n"
     ]
    }
   ],
   "source": [
    "p=\"\"\n",
    "d={}\n",
    "while(p!=\"stop\"):\n",
    "   p = input(\"enter \")\n",
    "   if(p==\"stop\"):\n",
    "       break\n",
    "   else: \n",
    "       if p not in d:\n",
    "           d.update({p:1})\n",
    "       else:\n",
    "           d[p]=d[p]+1\n",
    "for i in d:\n",
    "    c= str(d[i])\n",
    "    print(i+ \" - \"+ c + \" times\")"
   ]
  },
  {
   "cell_type": "markdown",
   "metadata": {
    "id": "hhYoZkjfmP7M"
   },
   "source": [
    "**dictionary and tuple 3**"
   ]
  },
  {
   "cell_type": "code",
   "execution_count": 10,
   "metadata": {
    "colab": {
     "base_uri": "https://localhost:8080/",
     "height": 136
    },
    "id": "CmaEDmRmmYoy",
    "outputId": "7dd524bd-6f10-4ff2-87e6-392631c523be"
   },
   "outputs": [
    {
     "name": "stdout",
     "output_type": "stream",
     "text": [
      "enter the number of key 2\n",
      "key a\n",
      "value 3\n",
      "key s\n",
      "value 4\n",
      "{'a': '3', 's': '4'}\n",
      "{'3': ['a'], '4': ['s']}\n"
     ]
    }
   ],
   "source": [
    "\n",
    "num1 = int(input(\"enter the number of key \"))\n",
    "d1 = {}\n",
    "d2 = {}\n",
    "\n",
    "for i in range(num1):\n",
    "    k = input(\"key \") \n",
    "    val = input(\"value \") \n",
    "    d1[k] = val\n",
    "print(d1)\n",
    "for i in d1:\n",
    "    if d1[i] not in d2:\n",
    "        d2[d1[i]]= [i]\n",
    "    else:\n",
    "        d2[d1[i]].append(i)\n",
    "       \n",
    "    \n",
    "        \n",
    "print(d2)"
   ]
  },
  {
   "cell_type": "markdown",
   "metadata": {
    "id": "nuX0LFFAm87E"
   },
   "source": [
    "**dictionary and tuple 4**"
   ]
  },
  {
   "cell_type": "code",
   "execution_count": 23,
   "metadata": {
    "colab": {
     "base_uri": "https://localhost:8080/",
     "height": 68
    },
    "id": "x4N_kmyPnDPa",
    "outputId": "5edcd6a0-b240-4875-d856-8d28527f01f1"
   },
   "outputs": [
    {
     "name": "stdout",
     "output_type": "stream",
     "text": [
      "enter a word live\n",
      "enter a word evil\n",
      "Those words are anagram\n"
     ]
    }
   ],
   "source": [
    "a= input(\"enter a word \")\n",
    "b= input(\"enter a word \")\n",
    "ans=\"\"\n",
    "if(a!=b):\n",
    " d1={}\n",
    " d2={}\n",
    " a=list(a)\n",
    " b=list(b)\n",
    " c= False\n",
    " if len(a)==len(b):\n",
    "    for i in a:\n",
    "       if i not in d1:\n",
    "           d1[i]=1\n",
    "       else:\n",
    "           d1[i]+=1\n",
    "    for j in b:\n",
    "       if j not in d2:\n",
    "           d2[j]=1\n",
    "       else:\n",
    "           d2[j]+=1\n",
    "    for i in d1:\n",
    "        if i in d2:\n",
    "            if(d1[i]==d2[i]):\n",
    "                c=True\n",
    "            else:\n",
    "                c= False\n",
    "                break \n",
    "        else:\n",
    "                c= False\n",
    "                ans=\"anagram\"\n",
    "               \n",
    "                break   \n",
    "    if c== True :\n",
    "        ans=\"anagram\"\n",
    "       \n",
    "    else:\n",
    "        ans=\"Not anagram\"\n",
    "        \n",
    " else:\n",
    "     ans=\"Not anagram\"\n",
    "    \n",
    "else:\n",
    "     ans=\"Not anagram\"\n",
    "     \n",
    "print(\"Those words are \"+ans)"
   ]
  },
  {
   "cell_type": "markdown",
   "metadata": {
    "id": "4jKhPql7nDiS"
   },
   "source": [
    "**dictionary and tuple 5**"
   ]
  },
  {
   "cell_type": "code",
   "execution_count": 24,
   "metadata": {
    "colab": {
     "base_uri": "https://localhost:8080/",
     "height": 51
    },
    "id": "cy2zbZZHnYuC",
    "outputId": "cd43a709-8c98-480d-dda4-0f47c834ac60"
   },
   "outputs": [
    {
     "name": "stdout",
     "output_type": "stream",
     "text": [
      "hy\n",
      "44999\n"
     ]
    }
   ],
   "source": [
    "d={}\n",
    "d[1]=[\".\",\",\",\"?\",\"!\",\":\"]\n",
    "d[2]=[\"A\",\"B\",\"C\"]\n",
    "d[3]=[\"D\",\"E\",\"F\"]\n",
    "d[4]=[\"G\",\"H\",\"I\"]\n",
    "d[5]=[\"J\",\"K\",\"L\"]\n",
    "d[6]=[\"M\",\"N\",\"O\"]\n",
    "d[7]=[\"P\",\"Q\",\"R\",\"S\"]\n",
    "d[8]=[\"T\",\"U\",\"V\"]\n",
    "d[9]=[\"W\",\"X\",\"Y\",\"Z\"]\n",
    "d[0]=[\" \"]\n",
    "i=input()\n",
    "i=list(i.upper())\n",
    "x=''\n",
    "for n in i:\n",
    "    for j in d:\n",
    "        if n in d[j]:\n",
    "          lst= d[j]\n",
    "          \n",
    "          for t in range(len(lst)):\n",
    "              if(lst[t]==n):\n",
    "                 for num in range(t+1):\n",
    "                     x=x+str(j)\n",
    "print(x)"
   ]
  }
 ],
 "metadata": {
  "colab": {
   "collapsed_sections": [],
   "name": "Assignment01_17101020_MalihaMonami.ipynb",
   "provenance": []
  },
  "kernelspec": {
   "display_name": "Python 3",
   "language": "python",
   "name": "python3"
  },
  "language_info": {
   "codemirror_mode": {
    "name": "ipython",
    "version": 3
   },
   "file_extension": ".py",
   "mimetype": "text/x-python",
   "name": "python",
   "nbconvert_exporter": "python",
   "pygments_lexer": "ipython3",
   "version": "3.7.6"
  }
 },
 "nbformat": 4,
 "nbformat_minor": 1
}
