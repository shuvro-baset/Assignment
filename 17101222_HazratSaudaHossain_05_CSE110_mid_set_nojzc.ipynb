{
 "cells": [
  {
   "cell_type": "markdown",
   "metadata": {
    "colab_type": "text",
    "id": "0ZcT5c9CjT8P"
   },
   "source": [
    "# SUMMER 2020\n",
    "\n",
    "# CSE110 MID\n",
    "**<font color='red'>[MUST MAINTAIN VARIABLE NAMING CONVENTIONS FOR ALL THE TASKS]</font>**\n",
    "\n",
    "**<font color='red'>[Writing comments(explanatory sentences) in any of the code is completely optional]</font>**"
   ]
  },
  {
   "cell_type": "markdown",
   "metadata": {
    "colab_type": "text",
    "id": "hQCnOmw6iWER"
   },
   "source": [
    "# Task 01\n",
    "Mrs. Khan is planning to make biryani. For her special recipe of biryani, she has all the ingredients except the basmati rice and the sour curd. The price of one kg of basmati rice is **350 taka** and the price of one kg sour card is **200 taka**. She will order these ingredients from her local store. The store will offer a discount depending on the total bill amount. The table below shows the discount she will get on her total amount.\n",
    "\n",
    "\n",
    "\n",
    "\n",
    "\n",
    "|Total Amount (TK)|Discount (TK)|\n",
    "|------|------|\n",
    "|0 - 450|No Discount|\n",
    "|451 - 699|20|\n",
    "|700 - 849 |40|\n",
    "|850 - 1599|100|\n",
    "|>= 1600|250|\n",
    "\n",
    "Write a python program and take two inputs from the user. The first input will be the amount of basmati rice in kgs and the second input will be the amount of sour curds in kgs. Based on the price of each item, calculate the total amount that Mrs. Khan will have to pay. \n",
    "\n",
    " ================================\n",
    "\n",
    "\n",
    "**Sample input(1):**\\\n",
    "3\\\n",
    "2\n",
    "\n",
    "**Sample Output(1):**\\\n",
    "Previous total: 1450\\\n",
    "New total after discount: 1350\n",
    "\n",
    "**Explanation(1):** 3* 350 + 2 *200 = 1450 Tk was her bill without discount.  For 1450 Tk, the discount amount is 100 Tk. So, with discount, her updated bill is (1450-100)= 1350Tk\n",
    "\n",
    "================================\n",
    "\n",
    "**Sample input (2):**\\\n",
    "1\\\n",
    "0\n",
    "\n",
    "\n",
    "\n",
    "\n",
    "**Sample output (2):**\\\n",
    "Previous total: 350\\\n",
    "New total after discount: 350\n",
    "\n",
    "\n",
    "Explanation(2):  1* 350 + 0 *200 = 350 Tk was her bill without discount.  For 350 Tk, the discount amount is 0Tk. So, with discount, her updated bill is (350-0)= 350Tk.\n",
    "\n",
    "\n"
   ]
  },
  {
   "cell_type": "code",
   "execution_count": 21,
   "metadata": {
    "colab": {},
    "colab_type": "code",
    "id": "P0vIwmbeiWEU"
   },
   "outputs": [
    {
     "name": "stdout",
     "output_type": "stream",
     "text": [
      "Please enter a number: 7\n",
      "Please enter another number: 8\n",
      "Previous total:  4050\n",
      "New total after discount:  3800\n"
     ]
    }
   ],
   "source": [
    "#task 1\n",
    "#to do\n",
    "M= int(input(\"Please enter a number: \"))\n",
    "N= int(input(\"Please enter another number: \"))\n",
    "M_total=M*350\n",
    "N_total=N*200\n",
    "total=M_total+N_total\n",
    "discount=0\n",
    "if(total>0 and total<450):\n",
    "    discount=total\n",
    "elif(total>450 and total<700):\n",
    "    discount=total-20\n",
    "elif(total>700 and total<849):\n",
    "    discount=total-40\n",
    "elif(total>850 and total<1599):\n",
    "    discount=total-100\n",
    "elif(total>=1600):\n",
    "    discount=total-250    \n",
    "print(\"Previous total: \", total)\n",
    "print(\"New total after discount: \", discount)"
   ]
  },
  {
   "cell_type": "markdown",
   "metadata": {
    "colab_type": "text",
    "id": "zUyYKkWViWEd"
   },
   "source": [
    "# Task 02\n",
    "Write a Python program that takes your BRACU Student ID as an input from the user and print the **total number of odd digits** in the ID.\n",
    "\n",
    "\n",
    " \n",
    "  ================================\n",
    " \n",
    "**Sample input 1:**\\\n",
    " 19101211\\\n",
    "**Sample output 1:**\\\n",
    " 6 Odds\n",
    " \n",
    "  ================================\n",
    "\n",
    "**Sample input 2:**\\\n",
    "14301185\\\n",
    "**Sample output 2:**\\\n",
    " 5 Odds\n"
   ]
  },
  {
   "cell_type": "code",
   "execution_count": 15,
   "metadata": {
    "colab": {},
    "colab_type": "code",
    "id": "_oEJ6XwgiWEh"
   },
   "outputs": [
    {
     "name": "stdout",
     "output_type": "stream",
     "text": [
      "Please enter your BRACU student ID: 17101222\n",
      "4 Odds\n"
     ]
    }
   ],
   "source": [
    "#task 2\n",
    "#to do\n",
    "id = int(input(\"Please enter your BRACU student ID: \"))\n",
    "count=0\n",
    "for i in str(id):\n",
    "    if int(i)%2!=0:\n",
    "        count+=1 \n",
    "print(count, \"Odds\")"
   ]
  },
  {
   "cell_type": "markdown",
   "metadata": {
    "colab_type": "text",
    "id": "CEhXrQIhiWEo"
   },
   "source": [
    "# Task 03\n",
    "Write a program that takes a String as the input from the user and prints **“True”** if the string has the character **comma “,” at least once**. Otherwise, prints “False”.\n",
    "\n",
    "**<font color='red'>( You cannot use the built-in count()  method )**\n",
    "\n",
    "\n",
    " \n",
    "  ================================\n",
    " \n",
    "**Sample input 1:**\\\n",
    " If you are a gentleman, do not cheat.\\\n",
    "**Sample output 1:**\\\n",
    " True\n",
    " \n",
    "  ================================\n",
    "\n",
    "**Sample input 2:**\\\n",
    "No worries Henry.\\\n",
    "**Sample output 2:**\\\n",
    "False\n"
   ]
  },
  {
   "cell_type": "code",
   "execution_count": 8,
   "metadata": {
    "colab": {},
    "colab_type": "code",
    "id": "gWQIR06LiWEp"
   },
   "outputs": [
    {
     "name": "stdout",
     "output_type": "stream",
     "text": [
      "Please enter a string: I love programming, but need to develop\n",
      "True\n"
     ]
    }
   ],
   "source": [
    "#task 3\n",
    "#to do\n",
    "A= str(input(\"Please enter a string: \"))\n",
    "if ',' in A:\n",
    "    print(\"True\")\n",
    "else:\n",
    "    print(\"False\")\n",
    "\n"
   ]
  }
 ],
 "metadata": {
  "colab": {
   "collapsed_sections": [],
   "name": "set 04.ipynb",
   "provenance": []
  },
  "kernelspec": {
   "display_name": "Python 3",
   "language": "python",
   "name": "python3"
  },
  "language_info": {
   "codemirror_mode": {
    "name": "ipython",
    "version": 3
   },
   "file_extension": ".py",
   "mimetype": "text/x-python",
   "name": "python",
   "nbconvert_exporter": "python",
   "pygments_lexer": "ipython3",
   "version": "3.7.6"
  }
 },
 "nbformat": 4,
 "nbformat_minor": 1
}
